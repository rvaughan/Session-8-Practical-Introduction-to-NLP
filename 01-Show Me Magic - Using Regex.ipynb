{
 "cells": [
  {
   "cell_type": "markdown",
   "metadata": {
    "ein.tags": "worksheet-0",
    "slideshow": {
     "slide_type": "-"
    }
   },
   "source": [
    "# Tidying up text using Regular Expressions"
   ]
  },
  {
   "cell_type": "markdown",
   "metadata": {
    "ein.tags": "worksheet-0",
    "slideshow": {
     "slide_type": "-"
    }
   },
   "source": [
    "The first step in processing text is to to tidy up any obvious errors and remove any unwanted spaces, characters etc. This can be accomplished in Python **using regular expressions**. \n",
    "\n",
    "A regular expression is a special sequence of characters that helps you match or find other strings or sets of strings, using a specialized syntax held in a pattern. The module [**re**](https://docs.python.org/3/library/re.html#module-re) provides full support for regular expressions in Python. \n",
    "\n",
    "Python offers two different primitive operations based on regular expressions: \n",
    "1. **match** ⇒ find something at the beginning of the string and return a match object\n",
    "2. **search** ⇒ find something anywhere in the string and return a match object \n",
    "\n",
    "```re.match(pattern, string, flags=0)```\n",
    "\n",
    "```re.search(pattern, string, flags=0)```\n",
    "\n",
    "See [here](https://www.tutorialspoint.com/python/python_reg_expressions.htm) for more details.\n",
    "\n",
    "There are a number of regular expression patterns to help match specific parts of text. For example: \n",
    "\n",
    "```'.'``` -> Matches any single character except newline\n",
    "\n",
    "```'*'```  -> Matches 0 or more occurrences of preceding expression\n",
    "\n",
    "```'?'``` -> Matches 0 or 1 occurrence of preceeding expression\n",
    "\n",
    "```'+'``` -> matches 1 or more occurances of preceeding expression\n",
    "\n",
    "```'^'``` -> matched beginning of a line\n",
    "\n",
    "```'$'``` -> matches end of line\n",
    "\n",
    "```'\\d'``` or ```[0-9]``` -> matches digits\n",
    "\n",
    "```'\\D'``` -> matches non digits\n",
    "\n",
    "```'[a-z]'``` -> matches any lower case ASCII\n",
    "\n",
    "for example, to find a python style comment:\n",
    "\n",
    "``` '#.*$' ``` will match 0 or more occurances of '#' followed by any character until the end of the line.\n",
    "\n",
    "A helpful interactive website which lets you build your regular expressions is: [regexr](https://regexr.com/) and it even includes a cheatsheet should you forget any of the above. Because it is easy to forget all of the special characters and patterns, its handy to have cheat sheets around - you can also see [here](https://www.dataquest.io/blog/regex-cheatsheet/) and [here](https://www.debuggex.com/cheatsheet/regex/python) for examples. Regex can be quite powerful - but also a bit tricky and difficult to read at times!"
   ]
  },
  {
   "cell_type": "markdown",
   "metadata": {
    "ein.tags": "worksheet-0",
    "slideshow": {
     "slide_type": "-"
    }
   },
   "source": [
    "## Matching Text"
   ]
  },
  {
   "cell_type": "code",
   "execution_count": null,
   "metadata": {
    "autoscroll": false,
    "collapsed": false,
    "ein.hycell": false,
    "ein.tags": "worksheet-0",
    "slideshow": {
     "slide_type": "-"
    }
   },
   "outputs": [],
   "source": [
    "import re\n",
    "\n",
    "t = 'some code 367 # here is a comment'\n",
    "\n",
    "# Lets find any Python comment text\n",
    "matched = re.search(r'#.*$', t)\n",
    "print(matched.group())\n",
    "\n",
    "\n",
    "#Lets return the first digit\n",
    "matched = re.search(r'\\d', t)\n",
    "print(matched.group())\n"
   ]
  },
  {
   "cell_type": "markdown",
   "metadata": {
    "ein.tags": "worksheet-0",
    "slideshow": {
     "slide_type": "-"
    }
   },
   "source": [
    "### Challenge: change the regex so we return all the digits:"
   ]
  },
  {
   "cell_type": "code",
   "execution_count": null,
   "metadata": {
    "autoscroll": false,
    "collapsed": false,
    "ein.hycell": false,
    "ein.tags": "worksheet-0",
    "slideshow": {
     "slide_type": "-"
    }
   },
   "outputs": [],
   "source": [
    "t = 'some code 367 # here is a comment'\n",
    "# Change the regex below to get the 367 from the above text\n",
    "matched = re.search(r'\\d', t)\n",
    "print(matched.group())"
   ]
  },
  {
   "cell_type": "markdown",
   "metadata": {
    "ein.tags": "worksheet-0",
    "slideshow": {
     "slide_type": "-"
    }
   },
   "source": [
    "## Substituting Text"
   ]
  },
  {
   "cell_type": "markdown",
   "metadata": {
    "ein.tags": "worksheet-0",
    "slideshow": {
     "slide_type": "-"
    }
   },
   "source": [
    "You can also substitute matched regular expressions. This can be useful, for example if you want to remove excess white spaces in a text string. The basic syntax of sub is as follows:\n",
    "\n",
    "```re.sub(pattern, replacement, string, max=0)```\n",
    "\n",
    "We can use the same regex patterns as before. For example:"
   ]
  },
  {
   "cell_type": "code",
   "execution_count": null,
   "metadata": {
    "autoscroll": false,
    "collapsed": false,
    "ein.hycell": false,
    "ein.tags": "worksheet-0",
    "slideshow": {
     "slide_type": "-"
    }
   },
   "outputs": [],
   "source": [
    "phone = \"2004-959-559 # This is Phone Number\"\n",
    "\n",
    "# Delete Python-style comments\n",
    "num = re.sub(r'#.*$', \"\", phone)\n",
    "print(\"Phone Num: \", num)\n",
    "\n",
    "# Remove anything other than digits\n",
    "num = re.sub(r'\\D', \"\", phone)    \n",
    "print(\"Phone Num: \", num)"
   ]
  },
  {
   "cell_type": "markdown",
   "metadata": {
    "ein.tags": "worksheet-0",
    "slideshow": {
     "slide_type": "-"
    }
   },
   "source": [
    "#### Challenge: remove the excess white space, remove any full stops and remove the words in brackets from the following text:"
   ]
  },
  {
   "cell_type": "code",
   "execution_count": null,
   "metadata": {
    "autoscroll": false,
    "collapsed": false,
    "ein.hycell": false,
    "ein.tags": "worksheet-0",
    "slideshow": {
     "slide_type": "-"
    }
   },
   "outputs": [],
   "source": [
    "text = \"\"\"\n",
    "I had a soul transplant operation ,\n",
    "Cause my bypass didn't    function,\n",
    "So  now I'm keeping   on my toes,\n",
    "Till I see your one man show.\n",
    "Show me  magic,\n",
    "Show me magic,\n",
    "Show  me magic,\n",
    "Show me magic.\n",
    "Wouldn't    it be nice  to know,\n",
    "What the paper doesn't show,\n",
    "What  the TV doesn't say,\n",
    "And what my hamster's ate   today.\n",
    "(Show me magic)\n",
    "\"\"\""
   ]
  },
  {
   "cell_type": "code",
   "execution_count": null,
   "metadata": {
    "autoscroll": false,
    "collapsed": false,
    "ein.hycell": false,
    "ein.tags": "worksheet-0",
    "slideshow": {
     "slide_type": "-"
    }
   },
   "outputs": [],
   "source": [
    "#enter your code here"
   ]
  },
  {
   "cell_type": "markdown",
   "metadata": {
    "ein.tags": "worksheet-0",
    "slideshow": {
     "slide_type": "-"
    }
   },
   "source": []
  }
 ],
 "metadata": {
  "kernelspec": {
   "display_name": "Python 3",
   "name": "python3"
  },
  "language_info": {
   "codemirror_mode": {
    "name": "ipython",
    "version": 3
   },
   "file_extension": ".py",
   "mimetype": "text/x-python",
   "name": "python",
   "nbconvert_exporter": "python",
   "pygments_lexer": "ipython3",
   "version": "3.6.5"
  },
  "name": "01-Show Me Magic - Using Regex.ipynb"
 },
 "nbformat": 4,
 "nbformat_minor": 2
}
